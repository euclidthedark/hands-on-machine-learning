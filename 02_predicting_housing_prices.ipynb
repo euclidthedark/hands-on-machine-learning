{
 "cells": [
  {
   "cell_type": "markdown",
   "id": "e6e0ff37",
   "metadata": {},
   "source": [
    "# Chapter 2 - Regression Anaysis on Housing Prices"
   ]
  },
  {
   "cell_type": "markdown",
   "id": "3bcf9e1b",
   "metadata": {},
   "source": [
    "### Todo write a detailed summary of how this solution emerged from the way the problem was framed"
   ]
  },
  {
   "cell_type": "code",
   "execution_count": 72,
   "id": "8a37fda6",
   "metadata": {},
   "outputs": [],
   "source": [
    "import os\n",
    "from urllib import request\n",
    "import tarfile"
   ]
  },
  {
   "cell_type": "code",
   "execution_count": 73,
   "id": "a5ecbb0d",
   "metadata": {},
   "outputs": [],
   "source": [
    "DOWNLOAD_URL = \"https://github.com/ageron/handson-ml2/raw/master/datasets/housing/housing.tgz\"\n",
    "DATA_DIR = \"data/housing\""
   ]
  },
  {
   "cell_type": "code",
   "execution_count": 74,
   "id": "6158ba30",
   "metadata": {},
   "outputs": [],
   "source": [
    "housing_tar = request.urlopen(DOWNLOAD_URL)"
   ]
  },
  {
   "cell_type": "code",
   "execution_count": 75,
   "id": "6a317b8d",
   "metadata": {},
   "outputs": [
    {
     "name": "stdout",
     "output_type": "stream",
     "text": [
      "Hello World\n"
     ]
    },
    {
     "ename": "UnicodeDecodeError",
     "evalue": "'utf-8' codec can't decode byte 0x8b in position 1: invalid start byte",
     "output_type": "error",
     "traceback": [
      "\u001b[1;31m---------------------------------------------------------------------------\u001b[0m",
      "\u001b[1;31mUnicodeDecodeError\u001b[0m                        Traceback (most recent call last)",
      "\u001b[1;32m~\\AppData\\Local\\Temp/ipykernel_24584/3844132199.py\u001b[0m in \u001b[0;36m<module>\u001b[1;34m\u001b[0m\n\u001b[0;32m      3\u001b[0m \u001b[1;32melse\u001b[0m\u001b[1;33m:\u001b[0m\u001b[1;33m\u001b[0m\u001b[1;33m\u001b[0m\u001b[0m\n\u001b[0;32m      4\u001b[0m     \u001b[0mos\u001b[0m\u001b[1;33m.\u001b[0m\u001b[0mmakedirs\u001b[0m\u001b[1;33m(\u001b[0m\u001b[0mDATA_DIR\u001b[0m\u001b[1;33m)\u001b[0m\u001b[1;33m\u001b[0m\u001b[1;33m\u001b[0m\u001b[0m\n\u001b[1;32m----> 5\u001b[1;33m \u001b[0mhousing_tar\u001b[0m\u001b[1;33m.\u001b[0m\u001b[0mread\u001b[0m\u001b[1;33m(\u001b[0m\u001b[1;33m)\u001b[0m\u001b[1;33m.\u001b[0m\u001b[0mdecode\u001b[0m\u001b[1;33m(\u001b[0m\u001b[1;34m'utf-8'\u001b[0m\u001b[1;33m)\u001b[0m\u001b[1;33m\u001b[0m\u001b[1;33m\u001b[0m\u001b[0m\n\u001b[0m",
      "\u001b[1;31mUnicodeDecodeError\u001b[0m: 'utf-8' codec can't decode byte 0x8b in position 1: invalid start byte"
     ]
    }
   ],
   "source": [
    "if os.path.isdir(DATA_DIR):\n",
    "    \n",
    "else:\n",
    "    os.makedirs(DATA_DIR)\n"
   ]
  },
  {
   "cell_type": "code",
   "execution_count": null,
   "id": "bb7449d0",
   "metadata": {},
   "outputs": [],
   "source": []
  }
 ],
 "metadata": {
  "kernelspec": {
   "display_name": "Python 3 (ipykernel)",
   "language": "python",
   "name": "python3"
  },
  "language_info": {
   "codemirror_mode": {
    "name": "ipython",
    "version": 3
   },
   "file_extension": ".py",
   "mimetype": "text/x-python",
   "name": "python",
   "nbconvert_exporter": "python",
   "pygments_lexer": "ipython3",
   "version": "3.9.7"
  }
 },
 "nbformat": 4,
 "nbformat_minor": 5
}
